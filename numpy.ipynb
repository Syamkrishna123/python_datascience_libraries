{
 "cells": [
  {
   "cell_type": "code",
   "execution_count": 4,
   "id": "2b467bf5",
   "metadata": {},
   "outputs": [
    {
     "name": "stdout",
     "output_type": "stream",
     "text": [
      "[1, 3, 5, 6, 8, 4, 5, 6]\n"
     ]
    }
   ],
   "source": [
    "\"\"\"traditional method in python to find the sum of two lists\"\"\"\n",
    "list_1=[1,3,5,6]\n",
    "list_2=[8,4,5,6]\n",
    "sum=list_1+list_2 \n",
    "print(sum)   #it will combine the two lists instead of getting the sum\n"
   ]
  },
  {
   "cell_type": "code",
   "execution_count": 5,
   "id": "34bc79f6",
   "metadata": {},
   "outputs": [
    {
     "name": "stdout",
     "output_type": "stream",
     "text": [
      "[9, 7, 10, 12]\n"
     ]
    }
   ],
   "source": [
    "list_3=[]\n",
    "for i,j in zip(list_1,list_2):#The zip() function takes iterables (can be zero or more), aggregates them in a tuple, and returns it.\n",
    "    list_3.append(i+j)\n",
    "print(list_3)"
   ]
  },
  {
   "cell_type": "markdown",
   "id": "0c363255",
   "metadata": {},
   "source": [
    "## NumPy"
   ]
  },
  {
   "cell_type": "code",
   "execution_count": 6,
   "id": "500ba18c",
   "metadata": {},
   "outputs": [],
   "source": [
    "import numpy as np"
   ]
  },
  {
   "cell_type": "code",
   "execution_count": 7,
   "id": "a9c4f30e",
   "metadata": {},
   "outputs": [
    {
     "data": {
      "text/plain": [
       "array([1, 3, 5, 6])"
      ]
     },
     "execution_count": 7,
     "metadata": {},
     "output_type": "execute_result"
    }
   ],
   "source": [
    "np.array(list_1) #convert the list into an array"
   ]
  },
  {
   "cell_type": "code",
   "execution_count": 11,
   "id": "366f4639",
   "metadata": {},
   "outputs": [],
   "source": [
    "arr1=np.array(list_1) #stored it in a variable"
   ]
  },
  {
   "cell_type": "code",
   "execution_count": 12,
   "id": "2287b61d",
   "metadata": {},
   "outputs": [
    {
     "data": {
      "text/plain": [
       "array([1, 3, 5, 6])"
      ]
     },
     "execution_count": 12,
     "metadata": {},
     "output_type": "execute_result"
    }
   ],
   "source": [
    "arr1"
   ]
  },
  {
   "cell_type": "code",
   "execution_count": 13,
   "id": "6cd65029",
   "metadata": {},
   "outputs": [],
   "source": [
    "arr2=np.array(list_2)"
   ]
  },
  {
   "cell_type": "code",
   "execution_count": 14,
   "id": "f8d244cf",
   "metadata": {},
   "outputs": [
    {
     "data": {
      "text/plain": [
       "array([8, 4, 5, 6])"
      ]
     },
     "execution_count": 14,
     "metadata": {},
     "output_type": "execute_result"
    }
   ],
   "source": [
    "arr2"
   ]
  },
  {
   "cell_type": "code",
   "execution_count": 15,
   "id": "57c64182",
   "metadata": {},
   "outputs": [],
   "source": [
    "sum1= arr1+arr2"
   ]
  },
  {
   "cell_type": "code",
   "execution_count": 16,
   "id": "30abcacc",
   "metadata": {},
   "outputs": [
    {
     "data": {
      "text/plain": [
       "array([ 9,  7, 10, 12])"
      ]
     },
     "execution_count": 16,
     "metadata": {},
     "output_type": "execute_result"
    }
   ],
   "source": [
    "sum1 #will add both arrays"
   ]
  },
  {
   "cell_type": "code",
   "execution_count": 17,
   "id": "a8a030f3",
   "metadata": {},
   "outputs": [
    {
     "name": "stdout",
     "output_type": "stream",
     "text": [
      "Variable   Type       Data/Info\n",
      "-------------------------------\n",
      "arr1       ndarray    4: 4 elems, type `int32`, 16 bytes\n",
      "arr2       ndarray    4: 4 elems, type `int32`, 16 bytes\n",
      "i          int        6\n",
      "j          int        6\n",
      "list_1     list       n=4\n",
      "list_2     list       n=4\n",
      "list_3     list       n=4\n",
      "np         module     <module 'numpy' from 'E:\\<...>ges\\\\numpy\\\\__init__.py'>\n",
      "sum        list       n=8\n",
      "sum1       ndarray    4: 4 elems, type `int32`, 16 bytes\n"
     ]
    }
   ],
   "source": [
    "%whos #to list varibles"
   ]
  },
  {
   "cell_type": "code",
   "execution_count": 18,
   "id": "f2ef3728",
   "metadata": {},
   "outputs": [],
   "source": [
    "data2 = [[1,2,5],[4,8,3]]"
   ]
  },
  {
   "cell_type": "code",
   "execution_count": 19,
   "id": "bed01c83",
   "metadata": {},
   "outputs": [
    {
     "data": {
      "text/plain": [
       "[[1, 2, 5], [4, 8, 3]]"
      ]
     },
     "execution_count": 19,
     "metadata": {},
     "output_type": "execute_result"
    }
   ],
   "source": [
    "data2"
   ]
  },
  {
   "cell_type": "code",
   "execution_count": 22,
   "id": "c43e725b",
   "metadata": {},
   "outputs": [
    {
     "data": {
      "text/plain": [
       "array([[1, 2, 5],\n",
       "       [4, 8, 3]])"
      ]
     },
     "execution_count": 22,
     "metadata": {},
     "output_type": "execute_result"
    }
   ],
   "source": [
    "arr_data=np.array(data2)\n",
    "arr_data"
   ]
  },
  {
   "cell_type": "code",
   "execution_count": 23,
   "id": "ee495440",
   "metadata": {},
   "outputs": [
    {
     "data": {
      "text/plain": [
       "2"
      ]
     },
     "execution_count": 23,
     "metadata": {},
     "output_type": "execute_result"
    }
   ],
   "source": [
    "arr_data.ndim #to check the dimension of the array"
   ]
  },
  {
   "cell_type": "code",
   "execution_count": 24,
   "id": "b5844b47",
   "metadata": {},
   "outputs": [
    {
     "data": {
      "text/plain": [
       "dtype('int32')"
      ]
     },
     "execution_count": 24,
     "metadata": {},
     "output_type": "execute_result"
    }
   ],
   "source": [
    "arr_data.dtype #will check the data type of the array"
   ]
  },
  {
   "cell_type": "code",
   "execution_count": 26,
   "id": "c9e3dff2",
   "metadata": {},
   "outputs": [
    {
     "data": {
      "text/plain": [
       "(2, 3)"
      ]
     },
     "execution_count": 26,
     "metadata": {},
     "output_type": "execute_result"
    }
   ],
   "source": [
    "arr_data.shape #will give the shape of the array, number of raws and number of coloumns"
   ]
  },
  {
   "cell_type": "code",
   "execution_count": 29,
   "id": "3fd4fc88",
   "metadata": {},
   "outputs": [
    {
     "data": {
      "text/plain": [
       "array([[1., 2., 5.],\n",
       "       [4., 8., 3.]])"
      ]
     },
     "execution_count": 29,
     "metadata": {},
     "output_type": "execute_result"
    }
   ],
   "source": [
    "arr_data1 = np.array(arr_data,dtype=float) #to change the type to float\n",
    "arr_data1"
   ]
  },
  {
   "cell_type": "code",
   "execution_count": 31,
   "id": "d7aafac3",
   "metadata": {},
   "outputs": [
    {
     "data": {
      "text/plain": [
       "dtype('<U1')"
      ]
     },
     "execution_count": 31,
     "metadata": {},
     "output_type": "execute_result"
    }
   ],
   "source": [
    "arr3=np.array(['1','2','5'])\n",
    "arr3.dtype #U1 stands for unicode(string data type)"
   ]
  },
  {
   "cell_type": "code",
   "execution_count": 33,
   "id": "6d8a7674",
   "metadata": {},
   "outputs": [
    {
     "name": "stdout",
     "output_type": "stream",
     "text": [
      "[1 2 5]\n"
     ]
    },
    {
     "data": {
      "text/plain": [
       "dtype('int32')"
      ]
     },
     "execution_count": 33,
     "metadata": {},
     "output_type": "execute_result"
    }
   ],
   "source": [
    "arr4= np.array(arr3,dtype=int)\n",
    "print(arr4)\n",
    "arr4.dtype"
   ]
  },
  {
   "cell_type": "code",
   "execution_count": 35,
   "id": "1065d8d0",
   "metadata": {},
   "outputs": [
    {
     "data": {
      "text/plain": [
       "[0, 1, 2, 3, 4, 5, 6]"
      ]
     },
     "execution_count": 35,
     "metadata": {},
     "output_type": "execute_result"
    }
   ],
   "source": [
    "list(range(7)) #normal method to print 0-6 values"
   ]
  },
  {
   "cell_type": "code",
   "execution_count": 36,
   "id": "79ad41a0",
   "metadata": {},
   "outputs": [
    {
     "data": {
      "text/plain": [
       "array([0, 1, 2, 3, 4, 5, 6])"
      ]
     },
     "execution_count": 36,
     "metadata": {},
     "output_type": "execute_result"
    }
   ],
   "source": [
    "np.arange(7) #in numpy we use arange() to output the values"
   ]
  },
  {
   "cell_type": "code",
   "execution_count": 41,
   "id": "a0546825",
   "metadata": {},
   "outputs": [
    {
     "data": {
      "text/plain": [
       "array([ 4,  6,  8, 10, 12, 14, 16, 18])"
      ]
     },
     "execution_count": 41,
     "metadata": {},
     "output_type": "execute_result"
    }
   ],
   "source": [
    "arr6=np.arange(4,20,2) #increment 2 \n",
    "arr6"
   ]
  },
  {
   "cell_type": "code",
   "execution_count": 43,
   "id": "ef2ea6cb",
   "metadata": {},
   "outputs": [
    {
     "data": {
      "text/plain": [
       "array([[ 4,  6],\n",
       "       [ 8, 10],\n",
       "       [12, 14],\n",
       "       [16, 18]])"
      ]
     },
     "execution_count": 43,
     "metadata": {},
     "output_type": "execute_result"
    }
   ],
   "source": [
    "arr7=arr6.reshape(4,2) #to reshape the dimension of the array\n",
    "arr7"
   ]
  },
  {
   "cell_type": "code",
   "execution_count": 45,
   "id": "1e4f4ff5",
   "metadata": {},
   "outputs": [
    {
     "data": {
      "text/plain": [
       "array([ 1.  ,  8.25, 15.5 , 22.75, 30.  ])"
      ]
     },
     "execution_count": 45,
     "metadata": {},
     "output_type": "execute_result"
    }
   ],
   "source": [
    "arr8=np.linspace(1,30,5) #will randomally divide 1 to 30 values in 5 parts\n",
    "arr8"
   ]
  },
  {
   "cell_type": "code",
   "execution_count": 46,
   "id": "0c742efe",
   "metadata": {},
   "outputs": [
    {
     "data": {
      "text/plain": [
       "array([ 1.        ,  4.66666667,  8.33333333, 12.        ])"
      ]
     },
     "execution_count": 46,
     "metadata": {},
     "output_type": "execute_result"
    }
   ],
   "source": [
    "arr9=np.linspace(1,12,4)\n",
    "arr9"
   ]
  },
  {
   "cell_type": "code",
   "execution_count": null,
   "id": "0b670f1d",
   "metadata": {},
   "outputs": [],
   "source": []
  }
 ],
 "metadata": {
  "kernelspec": {
   "display_name": "Python 3",
   "language": "python",
   "name": "python3"
  },
  "language_info": {
   "codemirror_mode": {
    "name": "ipython",
    "version": 3
   },
   "file_extension": ".py",
   "mimetype": "text/x-python",
   "name": "python",
   "nbconvert_exporter": "python",
   "pygments_lexer": "ipython3",
   "version": "3.8.8"
  }
 },
 "nbformat": 4,
 "nbformat_minor": 5
}
