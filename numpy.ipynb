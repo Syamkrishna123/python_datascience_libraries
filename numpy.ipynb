{
 "cells": [
  {
   "cell_type": "code",
   "execution_count": 7,
   "id": "1f5e72b1",
   "metadata": {},
   "outputs": [
    {
     "name": "stdout",
     "output_type": "stream",
     "text": [
      "[1, 3, 5, 6, 8, 4, 5, 6]\n"
     ]
    }
   ],
   "source": [
    "\"\"\"traditional method in python to find the sum of two lists\"\"\"\n",
    "list_1=[1,3,5,6]\n",
    "list_2=[8,4,5,6]\n",
    "sum=l+m \n",
    "print(sum)   #it will combine the two lists instead of getting the sum\n"
   ]
  },
  {
   "cell_type": "code",
   "execution_count": 8,
   "id": "0b6f112f",
   "metadata": {},
   "outputs": [
    {
     "name": "stdout",
     "output_type": "stream",
     "text": [
      "[9, 7, 10, 12]\n"
     ]
    }
   ],
   "source": [
    "list_3=[]\n",
    "for i,j in zip(list_1,list_2):#The zip() function takes iterables (can be zero or more), aggregates them in a tuple, and returns it.\n",
    "    list_3.append(i+j)\n",
    "print(list_3)"
   ]
  },
  {
   "cell_type": "code",
   "execution_count": null,
   "id": "2cc7572e",
   "metadata": {},
   "outputs": [],
   "source": []
  }
 ],
 "metadata": {
  "kernelspec": {
   "display_name": "Python 3",
   "language": "python",
   "name": "python3"
  },
  "language_info": {
   "codemirror_mode": {
    "name": "ipython",
    "version": 3
   },
   "file_extension": ".py",
   "mimetype": "text/x-python",
   "name": "python",
   "nbconvert_exporter": "python",
   "pygments_lexer": "ipython3",
   "version": "3.8.8"
  }
 },
 "nbformat": 4,
 "nbformat_minor": 5
}
