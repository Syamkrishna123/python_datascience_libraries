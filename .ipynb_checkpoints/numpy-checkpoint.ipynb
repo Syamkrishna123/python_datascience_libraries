{
 "cells": [
  {
   "cell_type": "code",
   "execution_count": 4,
   "id": "2b467bf5",
   "metadata": {},
   "outputs": [
    {
     "name": "stdout",
     "output_type": "stream",
     "text": [
      "[1, 3, 5, 6, 8, 4, 5, 6]\n"
     ]
    }
   ],
   "source": [
    "\"\"\"traditional method in python to find the sum of two lists\"\"\"\n",
    "list_1=[1,3,5,6]\n",
    "list_2=[8,4,5,6]\n",
    "sum=list_1+list_2 \n",
    "print(sum)   #it will combine the two lists instead of getting the sum\n"
   ]
  },
  {
   "cell_type": "code",
   "execution_count": 5,
   "id": "34bc79f6",
   "metadata": {},
   "outputs": [
    {
     "name": "stdout",
     "output_type": "stream",
     "text": [
      "[9, 7, 10, 12]\n"
     ]
    }
   ],
   "source": [
    "list_3=[]\n",
    "for i,j in zip(list_1,list_2):#The zip() function takes iterables (can be zero or more), aggregates them in a tuple, and returns it.\n",
    "    list_3.append(i+j)\n",
    "print(list_3)"
   ]
  },
  {
   "cell_type": "markdown",
   "id": "864d4617",
   "metadata": {},
   "source": [
    "## NumPy"
   ]
  },
  {
   "cell_type": "code",
   "execution_count": 6,
   "id": "217e7c80",
   "metadata": {},
   "outputs": [],
   "source": [
    "import numpy as np"
   ]
  },
  {
   "cell_type": "code",
   "execution_count": 7,
   "id": "5f3afd41",
   "metadata": {},
   "outputs": [
    {
     "data": {
      "text/plain": [
       "array([1, 3, 5, 6])"
      ]
     },
     "execution_count": 7,
     "metadata": {},
     "output_type": "execute_result"
    }
   ],
   "source": [
    "np.array(list_1) #convert the list into an array"
   ]
  },
  {
   "cell_type": "code",
   "execution_count": 11,
   "id": "9ff811f9",
   "metadata": {},
   "outputs": [],
   "source": [
    "arr1=np.array(list_1) #stored it in a variable"
   ]
  },
  {
   "cell_type": "code",
   "execution_count": 12,
   "id": "e7614764",
   "metadata": {},
   "outputs": [
    {
     "data": {
      "text/plain": [
       "array([1, 3, 5, 6])"
      ]
     },
     "execution_count": 12,
     "metadata": {},
     "output_type": "execute_result"
    }
   ],
   "source": [
    "arr1"
   ]
  },
  {
   "cell_type": "code",
   "execution_count": 13,
   "id": "bd2e0025",
   "metadata": {},
   "outputs": [],
   "source": [
    "arr2=np.array(list_2)"
   ]
  },
  {
   "cell_type": "code",
   "execution_count": 14,
   "id": "3602cc23",
   "metadata": {},
   "outputs": [
    {
     "data": {
      "text/plain": [
       "array([8, 4, 5, 6])"
      ]
     },
     "execution_count": 14,
     "metadata": {},
     "output_type": "execute_result"
    }
   ],
   "source": [
    "arr2"
   ]
  },
  {
   "cell_type": "code",
   "execution_count": 15,
   "id": "148dbca2",
   "metadata": {},
   "outputs": [],
   "source": [
    "sum1= arr1+arr2"
   ]
  },
  {
   "cell_type": "code",
   "execution_count": 16,
   "id": "99769191",
   "metadata": {},
   "outputs": [
    {
     "data": {
      "text/plain": [
       "array([ 9,  7, 10, 12])"
      ]
     },
     "execution_count": 16,
     "metadata": {},
     "output_type": "execute_result"
    }
   ],
   "source": [
    "sum1 #will add both arrays"
   ]
  },
  {
   "cell_type": "code",
   "execution_count": 17,
   "id": "2016e9b5",
   "metadata": {},
   "outputs": [
    {
     "name": "stdout",
     "output_type": "stream",
     "text": [
      "Variable   Type       Data/Info\n",
      "-------------------------------\n",
      "arr1       ndarray    4: 4 elems, type `int32`, 16 bytes\n",
      "arr2       ndarray    4: 4 elems, type `int32`, 16 bytes\n",
      "i          int        6\n",
      "j          int        6\n",
      "list_1     list       n=4\n",
      "list_2     list       n=4\n",
      "list_3     list       n=4\n",
      "np         module     <module 'numpy' from 'E:\\<...>ges\\\\numpy\\\\__init__.py'>\n",
      "sum        list       n=8\n",
      "sum1       ndarray    4: 4 elems, type `int32`, 16 bytes\n"
     ]
    }
   ],
   "source": [
    "%whos #to list varibles"
   ]
  },
  {
   "cell_type": "code",
   "execution_count": 18,
   "id": "c96242c0",
   "metadata": {},
   "outputs": [],
   "source": [
    "data2 = [[1,2,5],[4,8,3]]"
   ]
  },
  {
   "cell_type": "code",
   "execution_count": 19,
   "id": "d739411b",
   "metadata": {},
   "outputs": [
    {
     "data": {
      "text/plain": [
       "[[1, 2, 5], [4, 8, 3]]"
      ]
     },
     "execution_count": 19,
     "metadata": {},
     "output_type": "execute_result"
    }
   ],
   "source": [
    "data2"
   ]
  },
  {
   "cell_type": "code",
   "execution_count": 22,
   "id": "2376a34d",
   "metadata": {},
   "outputs": [
    {
     "data": {
      "text/plain": [
       "array([[1, 2, 5],\n",
       "       [4, 8, 3]])"
      ]
     },
     "execution_count": 22,
     "metadata": {},
     "output_type": "execute_result"
    }
   ],
   "source": [
    "arr_data=np.array(data2)\n",
    "arr_data"
   ]
  },
  {
   "cell_type": "code",
   "execution_count": 23,
   "id": "8b59b055",
   "metadata": {},
   "outputs": [
    {
     "data": {
      "text/plain": [
       "2"
      ]
     },
     "execution_count": 23,
     "metadata": {},
     "output_type": "execute_result"
    }
   ],
   "source": [
    "arr_data.ndim #to check the dimension of the array"
   ]
  },
  {
   "cell_type": "code",
   "execution_count": 24,
   "id": "64507e31",
   "metadata": {},
   "outputs": [
    {
     "data": {
      "text/plain": [
       "dtype('int32')"
      ]
     },
     "execution_count": 24,
     "metadata": {},
     "output_type": "execute_result"
    }
   ],
   "source": [
    "arr_data.dtype #will check the data type of the array"
   ]
  },
  {
   "cell_type": "code",
   "execution_count": 26,
   "id": "ac304135",
   "metadata": {},
   "outputs": [
    {
     "data": {
      "text/plain": [
       "(2, 3)"
      ]
     },
     "execution_count": 26,
     "metadata": {},
     "output_type": "execute_result"
    }
   ],
   "source": [
    "arr_data.shape #will give the shape of the array, number of raws and number of coloumns"
   ]
  },
  {
   "cell_type": "code",
   "execution_count": 29,
   "id": "5e8d0957",
   "metadata": {},
   "outputs": [
    {
     "data": {
      "text/plain": [
       "array([[1., 2., 5.],\n",
       "       [4., 8., 3.]])"
      ]
     },
     "execution_count": 29,
     "metadata": {},
     "output_type": "execute_result"
    }
   ],
   "source": [
    "arr_data1 = np.array(arr_data,dtype=float) #to change the type to float\n",
    "arr_data1"
   ]
  },
  {
   "cell_type": "code",
   "execution_count": 31,
   "id": "4f747b0e",
   "metadata": {},
   "outputs": [
    {
     "data": {
      "text/plain": [
       "dtype('<U1')"
      ]
     },
     "execution_count": 31,
     "metadata": {},
     "output_type": "execute_result"
    }
   ],
   "source": [
    "arr3=np.array(['1','2','5'])\n",
    "arr3.dtype #U1 stands for unicode(string data type)"
   ]
  },
  {
   "cell_type": "code",
   "execution_count": 33,
   "id": "acc54078",
   "metadata": {},
   "outputs": [
    {
     "name": "stdout",
     "output_type": "stream",
     "text": [
      "[1 2 5]\n"
     ]
    },
    {
     "data": {
      "text/plain": [
       "dtype('int32')"
      ]
     },
     "execution_count": 33,
     "metadata": {},
     "output_type": "execute_result"
    }
   ],
   "source": [
    "arr4= np.array(arr3,dtype=int)\n",
    "print(arr4)\n",
    "arr4.dtype"
   ]
  },
  {
   "cell_type": "code",
   "execution_count": 35,
   "id": "bfc87368",
   "metadata": {},
   "outputs": [
    {
     "data": {
      "text/plain": [
       "[0, 1, 2, 3, 4, 5, 6]"
      ]
     },
     "execution_count": 35,
     "metadata": {},
     "output_type": "execute_result"
    }
   ],
   "source": [
    "list(range(7)) #normal method to print 0-6 values"
   ]
  },
  {
   "cell_type": "code",
   "execution_count": 36,
   "id": "d425f9c0",
   "metadata": {},
   "outputs": [
    {
     "data": {
      "text/plain": [
       "array([0, 1, 2, 3, 4, 5, 6])"
      ]
     },
     "execution_count": 36,
     "metadata": {},
     "output_type": "execute_result"
    }
   ],
   "source": [
    "np.arange(7) #in numpy we use arange() to output the values"
   ]
  },
  {
   "cell_type": "code",
   "execution_count": 41,
   "id": "3c979afa",
   "metadata": {},
   "outputs": [
    {
     "data": {
      "text/plain": [
       "array([ 4,  6,  8, 10, 12, 14, 16, 18])"
      ]
     },
     "execution_count": 41,
     "metadata": {},
     "output_type": "execute_result"
    }
   ],
   "source": [
    "arr6=np.arange(4,20,2) #increment 2 \n",
    "arr6"
   ]
  },
  {
   "cell_type": "code",
   "execution_count": 43,
   "id": "4d53074a",
   "metadata": {},
   "outputs": [
    {
     "data": {
      "text/plain": [
       "array([[ 4,  6],\n",
       "       [ 8, 10],\n",
       "       [12, 14],\n",
       "       [16, 18]])"
      ]
     },
     "execution_count": 43,
     "metadata": {},
     "output_type": "execute_result"
    }
   ],
   "source": [
    "arr7=arr6.reshape(4,2) #to reshape the dimension of the array\n",
    "arr7"
   ]
  },
  {
   "cell_type": "code",
   "execution_count": 45,
   "id": "6f802dea",
   "metadata": {},
   "outputs": [
    {
     "data": {
      "text/plain": [
       "array([ 1.  ,  8.25, 15.5 , 22.75, 30.  ])"
      ]
     },
     "execution_count": 45,
     "metadata": {},
     "output_type": "execute_result"
    }
   ],
   "source": [
    "arr8=np.linspace(1,30,5) #will randomally divide 1 to 30 values in 5 parts\n",
    "arr8"
   ]
  },
  {
   "cell_type": "code",
   "execution_count": 46,
   "id": "1f31fdcc",
   "metadata": {},
   "outputs": [
    {
     "data": {
      "text/plain": [
       "array([ 1.        ,  4.66666667,  8.33333333, 12.        ])"
      ]
     },
     "execution_count": 46,
     "metadata": {},
     "output_type": "execute_result"
    }
   ],
   "source": [
    "arr9=np.linspace(1,12,4)\n",
    "arr9"
   ]
  },
  {
   "cell_type": "code",
   "execution_count": 47,
   "id": "7dd7d83b",
   "metadata": {},
   "outputs": [
    {
     "data": {
      "text/plain": [
       "array([ 5,  6,  7,  8,  9, 10, 11, 12, 13, 14, 15, 16, 17, 18, 19])"
      ]
     },
     "execution_count": 47,
     "metadata": {},
     "output_type": "execute_result"
    }
   ],
   "source": [
    "arr=np.arange(5,20)\n",
    "arr"
   ]
  },
  {
   "cell_type": "code",
   "execution_count": 48,
   "id": "89236ad8",
   "metadata": {},
   "outputs": [
    {
     "data": {
      "text/plain": [
       "array([10, 11, 12, 13, 14, 15, 16])"
      ]
     },
     "execution_count": 48,
     "metadata": {},
     "output_type": "execute_result"
    }
   ],
   "source": [
    "arr[5:12]"
   ]
  },
  {
   "cell_type": "code",
   "execution_count": 49,
   "id": "835b31e4",
   "metadata": {},
   "outputs": [
    {
     "data": {
      "text/plain": [
       "10"
      ]
     },
     "execution_count": 49,
     "metadata": {},
     "output_type": "execute_result"
    }
   ],
   "source": [
    "arr[5]"
   ]
  },
  {
   "cell_type": "code",
   "execution_count": 50,
   "id": "68bc0631",
   "metadata": {},
   "outputs": [
    {
     "data": {
      "text/plain": [
       "17"
      ]
     },
     "execution_count": 50,
     "metadata": {},
     "output_type": "execute_result"
    }
   ],
   "source": [
    "arr[12]"
   ]
  },
  {
   "cell_type": "code",
   "execution_count": 52,
   "id": "8e2d97aa",
   "metadata": {},
   "outputs": [
    {
     "data": {
      "text/plain": [
       "array([10, 11, 12, 13, 14, 15, 16, 17, 18, 19])"
      ]
     },
     "execution_count": 52,
     "metadata": {},
     "output_type": "execute_result"
    }
   ],
   "source": [
    "arr[5:] #print values from 5th index upto last"
   ]
  },
  {
   "cell_type": "code",
   "execution_count": 53,
   "id": "278f22d1",
   "metadata": {},
   "outputs": [
    {
     "data": {
      "text/plain": [
       "array([5, 6, 7, 8, 9])"
      ]
     },
     "execution_count": 53,
     "metadata": {},
     "output_type": "execute_result"
    }
   ],
   "source": [
    "arr[:5] #from first index upto 4th index"
   ]
  },
  {
   "cell_type": "code",
   "execution_count": 54,
   "id": "cbbd113d",
   "metadata": {},
   "outputs": [
    {
     "ename": "IndexError",
     "evalue": "too many indices for array: array is 1-dimensional, but 3 were indexed",
     "output_type": "error",
     "traceback": [
      "\u001b[1;31m---------------------------------------------------------------------------\u001b[0m",
      "\u001b[1;31mIndexError\u001b[0m                                Traceback (most recent call last)",
      "\u001b[1;32m<ipython-input-54-02d3e42d6188>\u001b[0m in \u001b[0;36m<module>\u001b[1;34m\u001b[0m\n\u001b[1;32m----> 1\u001b[1;33m \u001b[0marr\u001b[0m\u001b[1;33m[\u001b[0m\u001b[1;36m1\u001b[0m\u001b[1;33m,\u001b[0m\u001b[1;36m3\u001b[0m\u001b[1;33m,\u001b[0m\u001b[1;36m5\u001b[0m\u001b[1;33m]\u001b[0m\u001b[1;33m\u001b[0m\u001b[1;33m\u001b[0m\u001b[0m\n\u001b[0m",
      "\u001b[1;31mIndexError\u001b[0m: too many indices for array: array is 1-dimensional, but 3 were indexed"
     ]
    }
   ],
   "source": [
    "arr[1,3,5]"
   ]
  },
  {
   "cell_type": "code",
   "execution_count": 56,
   "id": "12151311",
   "metadata": {},
   "outputs": [
    {
     "data": {
      "text/plain": [
       "array([ 6,  7, 10])"
      ]
     },
     "execution_count": 56,
     "metadata": {},
     "output_type": "execute_result"
    }
   ],
   "source": [
    "arr[[1,2,5]]"
   ]
  },
  {
   "cell_type": "code",
   "execution_count": 70,
   "id": "17eaf00e",
   "metadata": {},
   "outputs": [
    {
     "name": "stdout",
     "output_type": "stream",
     "text": [
      "[[ 7  5]\n",
      " [-8 -5]\n",
      " [ 2 -3]]\n"
     ]
    },
    {
     "data": {
      "text/plain": [
       "2"
      ]
     },
     "execution_count": 70,
     "metadata": {},
     "output_type": "execute_result"
    }
   ],
   "source": [
    "arr_2=np.array([[7,5,-8],[-5,2,-3],])\n",
    "arr_2=arr_2.reshape(3,2)\n",
    "print(arr_2)\n",
    "arr_2.ndim\n"
   ]
  },
  {
   "cell_type": "code",
   "execution_count": 72,
   "id": "885bd45b",
   "metadata": {},
   "outputs": [
    {
     "data": {
      "text/plain": [
       "array([-8, -5])"
      ]
     },
     "execution_count": 72,
     "metadata": {},
     "output_type": "execute_result"
    }
   ],
   "source": [
    "arr_2[1] #will output only the raw in the index 1"
   ]
  },
  {
   "cell_type": "code",
   "execution_count": 74,
   "id": "95ae3ef0",
   "metadata": {},
   "outputs": [
    {
     "data": {
      "text/plain": [
       "-8"
      ]
     },
     "execution_count": 74,
     "metadata": {},
     "output_type": "execute_result"
    }
   ],
   "source": [
    "arr_2[1,0] #will takeout the specific value "
   ]
  },
  {
   "cell_type": "code",
   "execution_count": 75,
   "id": "cdd4d475",
   "metadata": {},
   "outputs": [
    {
     "data": {
      "text/plain": [
       "array([[-8, -5],\n",
       "       [ 7,  5]])"
      ]
     },
     "execution_count": 75,
     "metadata": {},
     "output_type": "execute_result"
    }
   ],
   "source": [
    "arr_2[[1,0]] #to take out multiple raws"
   ]
  },
  {
   "cell_type": "code",
   "execution_count": 77,
   "id": "52f37ddc",
   "metadata": {},
   "outputs": [
    {
     "data": {
      "text/plain": [
       "array([ 5, -5, -3])"
      ]
     },
     "execution_count": 77,
     "metadata": {},
     "output_type": "execute_result"
    }
   ],
   "source": [
    "arr_2[:,1]"
   ]
  },
  {
   "cell_type": "code",
   "execution_count": 80,
   "id": "e22f2973",
   "metadata": {},
   "outputs": [
    {
     "data": {
      "text/plain": [
       "array([10, 12, 14, 16, 18, 20, 22, 24, 26, 28, 30, 32, 34, 36, 38, 40, 42,\n",
       "       44, 46, 48, 50, 52, 54, 56, 58, 60, 62, 64, 66, 68, 70, 72, 74, 76,\n",
       "       78, 80])"
      ]
     },
     "execution_count": 80,
     "metadata": {},
     "output_type": "execute_result"
    }
   ],
   "source": [
    "arr_3=np.arange(10,82,2)\n",
    "arr_3"
   ]
  },
  {
   "cell_type": "code",
   "execution_count": 81,
   "id": "46cd42e0",
   "metadata": {},
   "outputs": [
    {
     "data": {
      "text/plain": [
       "36"
      ]
     },
     "execution_count": 81,
     "metadata": {},
     "output_type": "execute_result"
    }
   ],
   "source": [
    "len(arr_3) #show how many elements in the array"
   ]
  },
  {
   "cell_type": "code",
   "execution_count": 85,
   "id": "302f2f43",
   "metadata": {},
   "outputs": [
    {
     "data": {
      "text/plain": [
       "array([[10, 12, 14, 16, 18, 20],\n",
       "       [22, 24, 26, 28, 30, 32],\n",
       "       [34, 36, 38, 40, 42, 44],\n",
       "       [46, 48, 50, 52, 54, 56],\n",
       "       [58, 60, 62, 64, 66, 68],\n",
       "       [70, 72, 74, 76, 78, 80]])"
      ]
     },
     "execution_count": 85,
     "metadata": {},
     "output_type": "execute_result"
    }
   ],
   "source": [
    "arr_4=arr_3.reshape(6,6)\n",
    "arr_4"
   ]
  },
  {
   "cell_type": "code",
   "execution_count": 86,
   "id": "e83676e1",
   "metadata": {},
   "outputs": [
    {
     "data": {
      "text/plain": [
       "array([[10, 14],\n",
       "       [22, 26],\n",
       "       [34, 38],\n",
       "       [46, 50],\n",
       "       [58, 62],\n",
       "       [70, 74]])"
      ]
     },
     "execution_count": 86,
     "metadata": {},
     "output_type": "execute_result"
    }
   ],
   "source": [
    "arr_4[:,[0,2]]"
   ]
  },
  {
   "cell_type": "code",
   "execution_count": 88,
   "id": "706ce217",
   "metadata": {},
   "outputs": [
    {
     "data": {
      "text/plain": [
       "array([[10, 12, 14],\n",
       "       [22, 24, 26],\n",
       "       [34, 36, 38],\n",
       "       [46, 48, 50],\n",
       "       [58, 60, 62],\n",
       "       [70, 72, 74]])"
      ]
     },
     "execution_count": 88,
     "metadata": {},
     "output_type": "execute_result"
    }
   ],
   "source": [
    "arr_4[:,0:3]"
   ]
  },
  {
   "cell_type": "code",
   "execution_count": 93,
   "id": "6a8e602d",
   "metadata": {},
   "outputs": [
    {
     "data": {
      "text/plain": [
       "array([[10, 12, 14],\n",
       "       [22, 24, 26]])"
      ]
     },
     "execution_count": 93,
     "metadata": {},
     "output_type": "execute_result"
    }
   ],
   "source": [
    "arr_4[:2,0:3]"
   ]
  },
  {
   "cell_type": "raw",
   "id": "2206a41b",
   "metadata": {},
   "source": []
  },
  {
   "cell_type": "code",
   "execution_count": 96,
   "id": "1abad29f",
   "metadata": {},
   "outputs": [
    {
     "data": {
      "text/plain": [
       "array([3, 4, 5, 6])"
      ]
     },
     "execution_count": 96,
     "metadata": {},
     "output_type": "execute_result"
    }
   ],
   "source": [
    "arr_5=np.array([3,4,5,6])\n",
    "arr_5"
   ]
  },
  {
   "cell_type": "code",
   "execution_count": 97,
   "id": "da9dbd50",
   "metadata": {},
   "outputs": [
    {
     "data": {
      "text/plain": [
       "18"
      ]
     },
     "execution_count": 97,
     "metadata": {},
     "output_type": "execute_result"
    }
   ],
   "source": [
    "np.sum(arr_5) #to find the sum of all elements inside this array"
   ]
  },
  {
   "cell_type": "code",
   "execution_count": 99,
   "id": "3d83c5ca",
   "metadata": {},
   "outputs": [
    {
     "data": {
      "text/plain": [
       "18"
      ]
     },
     "execution_count": 99,
     "metadata": {},
     "output_type": "execute_result"
    }
   ],
   "source": [
    "arr_5.sum() #another method to find the sum"
   ]
  },
  {
   "cell_type": "code",
   "execution_count": 100,
   "id": "50ddc6fd",
   "metadata": {},
   "outputs": [
    {
     "data": {
      "text/plain": [
       "4.5"
      ]
     },
     "execution_count": 100,
     "metadata": {},
     "output_type": "execute_result"
    }
   ],
   "source": [
    "arr_5.mean() #to find the mean"
   ]
  },
  {
   "cell_type": "code",
   "execution_count": 101,
   "id": "3fc6e23d",
   "metadata": {},
   "outputs": [
    {
     "data": {
      "text/plain": [
       "4.5"
      ]
     },
     "execution_count": 101,
     "metadata": {},
     "output_type": "execute_result"
    }
   ],
   "source": [
    "np.mean(arr_5) #another method to find the mean"
   ]
  },
  {
   "cell_type": "code",
   "execution_count": 103,
   "id": "f7945864",
   "metadata": {},
   "outputs": [
    {
     "data": {
      "text/plain": [
       "4.5"
      ]
     },
     "execution_count": 103,
     "metadata": {},
     "output_type": "execute_result"
    }
   ],
   "source": [
    "np.median(arr_5) #to find the median"
   ]
  },
  {
   "cell_type": "code",
   "execution_count": 104,
   "id": "03694e1d",
   "metadata": {},
   "outputs": [
    {
     "data": {
      "text/plain": [
       "array([3, 4, 5, 6])"
      ]
     },
     "execution_count": 104,
     "metadata": {},
     "output_type": "execute_result"
    }
   ],
   "source": [
    "arr_5"
   ]
  },
  {
   "cell_type": "code",
   "execution_count": 106,
   "id": "a25b9bf2",
   "metadata": {},
   "outputs": [
    {
     "data": {
      "text/plain": [
       "array([[3, 4],\n",
       "       [5, 6]])"
      ]
     },
     "execution_count": 106,
     "metadata": {},
     "output_type": "execute_result"
    }
   ],
   "source": [
    "arr_5 = arr_5.reshape(2,2)\n",
    "arr_5"
   ]
  },
  {
   "cell_type": "code",
   "execution_count": 107,
   "id": "e3b42247",
   "metadata": {},
   "outputs": [
    {
     "data": {
      "text/plain": [
       "18"
      ]
     },
     "execution_count": 107,
     "metadata": {},
     "output_type": "execute_result"
    }
   ],
   "source": [
    "arr_5.sum()"
   ]
  },
  {
   "cell_type": "code",
   "execution_count": 114,
   "id": "73eb98b1",
   "metadata": {},
   "outputs": [
    {
     "data": {
      "text/plain": [
       "array([ 8, 10])"
      ]
     },
     "execution_count": 114,
     "metadata": {},
     "output_type": "execute_result"
    }
   ],
   "source": [
    "arr_5.sum(axis=0) #give the sum with respect to the y-axis (column wise)"
   ]
  },
  {
   "cell_type": "code",
   "execution_count": 116,
   "id": "385d31ce",
   "metadata": {},
   "outputs": [
    {
     "data": {
      "text/plain": [
       "array([ 7, 11])"
      ]
     },
     "execution_count": 116,
     "metadata": {},
     "output_type": "execute_result"
    }
   ],
   "source": [
    "arr_5.sum(axis=1) #give the sum with respect to x-axis (raw wise)"
   ]
  },
  {
   "cell_type": "code",
   "execution_count": 117,
   "id": "feef7f0c",
   "metadata": {},
   "outputs": [
    {
     "data": {
      "text/plain": [
       "array([[10, 12, 14, 16, 18, 20],\n",
       "       [22, 24, 26, 28, 30, 32],\n",
       "       [34, 36, 38, 40, 42, 44],\n",
       "       [46, 48, 50, 52, 54, 56],\n",
       "       [58, 60, 62, 64, 66, 68],\n",
       "       [70, 72, 74, 76, 78, 80]])"
      ]
     },
     "execution_count": 117,
     "metadata": {},
     "output_type": "execute_result"
    }
   ],
   "source": [
    "arr_4"
   ]
  },
  {
   "cell_type": "code",
   "execution_count": 118,
   "id": "43dace0a",
   "metadata": {},
   "outputs": [
    {
     "data": {
      "text/plain": [
       "array([[15, 17, 19, 21, 23, 25],\n",
       "       [27, 29, 31, 33, 35, 37],\n",
       "       [39, 41, 43, 45, 47, 49],\n",
       "       [51, 53, 55, 57, 59, 61],\n",
       "       [63, 65, 67, 69, 71, 73],\n",
       "       [75, 77, 79, 81, 83, 85]])"
      ]
     },
     "execution_count": 118,
     "metadata": {},
     "output_type": "execute_result"
    }
   ],
   "source": [
    "arr_4+5  #scalar operation. Adds this number with every numbers inside the array"
   ]
  },
  {
   "cell_type": "code",
   "execution_count": 119,
   "id": "1dafaff3",
   "metadata": {},
   "outputs": [
    {
     "data": {
      "text/plain": [
       "array([[ 5,  7,  9, 11, 13, 15],\n",
       "       [17, 19, 21, 23, 25, 27],\n",
       "       [29, 31, 33, 35, 37, 39],\n",
       "       [41, 43, 45, 47, 49, 51],\n",
       "       [53, 55, 57, 59, 61, 63],\n",
       "       [65, 67, 69, 71, 73, 75]])"
      ]
     },
     "execution_count": 119,
     "metadata": {},
     "output_type": "execute_result"
    }
   ],
   "source": [
    "arr_4-5"
   ]
  },
  {
   "cell_type": "code",
   "execution_count": 120,
   "id": "2495eb1e",
   "metadata": {},
   "outputs": [
    {
     "data": {
      "text/plain": [
       "array([[ 50,  60,  70,  80,  90, 100],\n",
       "       [110, 120, 130, 140, 150, 160],\n",
       "       [170, 180, 190, 200, 210, 220],\n",
       "       [230, 240, 250, 260, 270, 280],\n",
       "       [290, 300, 310, 320, 330, 340],\n",
       "       [350, 360, 370, 380, 390, 400]])"
      ]
     },
     "execution_count": 120,
     "metadata": {},
     "output_type": "execute_result"
    }
   ],
   "source": [
    "arr_4*5"
   ]
  },
  {
   "cell_type": "code",
   "execution_count": 122,
   "id": "98d81297",
   "metadata": {},
   "outputs": [
    {
     "data": {
      "text/plain": [
       "array([[10, 12, 14, 16, 18, 20],\n",
       "       [22, 24, 26, 28, 30, 32],\n",
       "       [34, 36, 38, 40, 42, 44],\n",
       "       [46, 48, 50, 52, 54, 56],\n",
       "       [58, 60, 62, 64, 66, 68],\n",
       "       [-9, -9, -9, -9, -9, -9]])"
      ]
     },
     "execution_count": 122,
     "metadata": {},
     "output_type": "execute_result"
    }
   ],
   "source": [
    "arr_4[5] = -9\n",
    "arr_4"
   ]
  },
  {
   "cell_type": "code",
   "execution_count": 123,
   "id": "9d74773b",
   "metadata": {},
   "outputs": [
    {
     "data": {
      "text/plain": [
       "array([[10, 12, 14, 16, 18, 20],\n",
       "       [22, 24, 26, 28, 30, 32],\n",
       "       [34, 36, 38, 40, 42, 44],\n",
       "       [46, 48, 50, 52, 54, 56],\n",
       "       [58, 60, 62, 64, 66, 68],\n",
       "       [ 9,  9,  9,  9,  9,  9]])"
      ]
     },
     "execution_count": 123,
     "metadata": {},
     "output_type": "execute_result"
    }
   ],
   "source": [
    "np.abs(arr_4) #absolute function will do changing negative value to positive value inside the array"
   ]
  },
  {
   "cell_type": "code",
   "execution_count": 125,
   "id": "e6e5950f",
   "metadata": {},
   "outputs": [
    {
     "data": {
      "text/plain": [
       "array([[10, 12, 14, 16, 18, 20],\n",
       "       [22, 24, 26, 28, 30, 32],\n",
       "       [34, 36, 38, 40, 42, 44],\n",
       "       [46, 48, 50, 52, 54, 56],\n",
       "       [58, 60, 62, 64, 66, 68],\n",
       "       [ 9,  9,  9,  9,  9,  9]])"
      ]
     },
     "execution_count": 125,
     "metadata": {},
     "output_type": "execute_result"
    }
   ],
   "source": [
    "arr_4=np.abs(arr_4)\n",
    "arr_4"
   ]
  },
  {
   "cell_type": "code",
   "execution_count": 126,
   "id": "41914910",
   "metadata": {},
   "outputs": [
    {
     "data": {
      "text/plain": [
       "array([[3.16227766, 3.46410162, 3.74165739, 4.        , 4.24264069,\n",
       "        4.47213595],\n",
       "       [4.69041576, 4.89897949, 5.09901951, 5.29150262, 5.47722558,\n",
       "        5.65685425],\n",
       "       [5.83095189, 6.        , 6.164414  , 6.32455532, 6.4807407 ,\n",
       "        6.63324958],\n",
       "       [6.78232998, 6.92820323, 7.07106781, 7.21110255, 7.34846923,\n",
       "        7.48331477],\n",
       "       [7.61577311, 7.74596669, 7.87400787, 8.        , 8.1240384 ,\n",
       "        8.24621125],\n",
       "       [3.        , 3.        , 3.        , 3.        , 3.        ,\n",
       "        3.        ]])"
      ]
     },
     "execution_count": 126,
     "metadata": {},
     "output_type": "execute_result"
    }
   ],
   "source": [
    "np.sqrt(arr_4) #will take the squreroot of array"
   ]
  },
  {
   "cell_type": "code",
   "execution_count": 127,
   "id": "2e7f1232",
   "metadata": {},
   "outputs": [
    {
     "data": {
      "text/plain": [
       "numpy.ndarray"
      ]
     },
     "execution_count": 127,
     "metadata": {},
     "output_type": "execute_result"
    }
   ],
   "source": [
    "type(arr_4)"
   ]
  },
  {
   "cell_type": "code",
   "execution_count": 130,
   "id": "f794adeb",
   "metadata": {},
   "outputs": [
    {
     "data": {
      "text/plain": [
       "array([[0., 0., 0., 0., 0.],\n",
       "       [0., 0., 0., 0., 0.],\n",
       "       [0., 0., 0., 0., 0.],\n",
       "       [0., 0., 0., 0., 0.],\n",
       "       [0., 0., 0., 0., 0.]])"
      ]
     },
     "execution_count": 130,
     "metadata": {},
     "output_type": "execute_result"
    }
   ],
   "source": [
    "np.zeros((5,5))"
   ]
  },
  {
   "cell_type": "code",
   "execution_count": 131,
   "id": "724ea966",
   "metadata": {},
   "outputs": [
    {
     "data": {
      "text/plain": [
       "array([[1., 1., 1., 1., 1.],\n",
       "       [1., 1., 1., 1., 1.],\n",
       "       [1., 1., 1., 1., 1.],\n",
       "       [1., 1., 1., 1., 1.],\n",
       "       [1., 1., 1., 1., 1.]])"
      ]
     },
     "execution_count": 131,
     "metadata": {},
     "output_type": "execute_result"
    }
   ],
   "source": [
    "np.ones((5,5))"
   ]
  },
  {
   "cell_type": "code",
   "execution_count": 135,
   "id": "7b33c903",
   "metadata": {},
   "outputs": [
    {
     "data": {
      "text/plain": [
       "array([[1., 0., 0., 0., 0.],\n",
       "       [0., 1., 0., 0., 0.],\n",
       "       [0., 0., 1., 0., 0.],\n",
       "       [0., 0., 0., 1., 0.],\n",
       "       [0., 0., 0., 0., 1.]])"
      ]
     },
     "execution_count": 135,
     "metadata": {},
     "output_type": "execute_result"
    }
   ],
   "source": [
    "np.eye(5,5) #all the diagonal elements are zero"
   ]
  },
  {
   "cell_type": "code",
   "execution_count": 149,
   "id": "80629948",
   "metadata": {},
   "outputs": [],
   "source": [
    "A= np.arange(0,30).reshape(3,10)\n",
    "B= np.arange(0,50).reshape(10,5)"
   ]
  },
  {
   "cell_type": "code",
   "execution_count": 150,
   "id": "f7918897",
   "metadata": {},
   "outputs": [
    {
     "data": {
      "text/plain": [
       "array([[ 0,  1,  2,  3,  4,  5,  6,  7,  8,  9],\n",
       "       [10, 11, 12, 13, 14, 15, 16, 17, 18, 19],\n",
       "       [20, 21, 22, 23, 24, 25, 26, 27, 28, 29]])"
      ]
     },
     "execution_count": 150,
     "metadata": {},
     "output_type": "execute_result"
    }
   ],
   "source": [
    "A"
   ]
  },
  {
   "cell_type": "code",
   "execution_count": 151,
   "id": "bd308ec6",
   "metadata": {},
   "outputs": [
    {
     "data": {
      "text/plain": [
       "array([[ 0,  1,  2,  3,  4],\n",
       "       [ 5,  6,  7,  8,  9],\n",
       "       [10, 11, 12, 13, 14],\n",
       "       [15, 16, 17, 18, 19],\n",
       "       [20, 21, 22, 23, 24],\n",
       "       [25, 26, 27, 28, 29],\n",
       "       [30, 31, 32, 33, 34],\n",
       "       [35, 36, 37, 38, 39],\n",
       "       [40, 41, 42, 43, 44],\n",
       "       [45, 46, 47, 48, 49]])"
      ]
     },
     "execution_count": 151,
     "metadata": {},
     "output_type": "execute_result"
    }
   ],
   "source": [
    "B"
   ]
  },
  {
   "cell_type": "code",
   "execution_count": 152,
   "id": "2f69e767",
   "metadata": {},
   "outputs": [
    {
     "data": {
      "text/plain": [
       "array([[1425, 1470, 1515, 1560, 1605],\n",
       "       [3675, 3820, 3965, 4110, 4255],\n",
       "       [5925, 6170, 6415, 6660, 6905]])"
      ]
     },
     "execution_count": 152,
     "metadata": {},
     "output_type": "execute_result"
    }
   ],
   "source": [
    "A.dot(B) #matrix multiplication. Number of raws in the first matrix have to equal to the number of columns in the second matrix"
   ]
  },
  {
   "cell_type": "code",
   "execution_count": null,
   "id": "90619b3b",
   "metadata": {},
   "outputs": [],
   "source": []
  }
 ],
 "metadata": {
  "kernelspec": {
   "display_name": "Python 3",
   "language": "python",
   "name": "python3"
  },
  "language_info": {
   "codemirror_mode": {
    "name": "ipython",
    "version": 3
   },
   "file_extension": ".py",
   "mimetype": "text/x-python",
   "name": "python",
   "nbconvert_exporter": "python",
   "pygments_lexer": "ipython3",
   "version": "3.8.8"
  }
 },
 "nbformat": 4,
 "nbformat_minor": 5
}
