{
 "cells": [
  {
   "cell_type": "markdown",
   "id": "7dc37792",
   "metadata": {},
   "source": [
    "# PANDAS"
   ]
  },
  {
   "cell_type": "code",
   "execution_count": 1,
   "id": "2fd2151a",
   "metadata": {},
   "outputs": [],
   "source": [
    "import pandas as pd"
   ]
  },
  {
   "cell_type": "markdown",
   "id": "666d5984",
   "metadata": {},
   "source": [
    "# series"
   ]
  },
  {
   "cell_type": "code",
   "execution_count": 7,
   "id": "fb2713c9",
   "metadata": {},
   "outputs": [],
   "source": [
    "city1=pd.Series([30,27,20,-2,-1]) "
   ]
  },
  {
   "cell_type": "code",
   "execution_count": 9,
   "id": "0fe2e5ae",
   "metadata": {},
   "outputs": [
    {
     "name": "stdout",
     "output_type": "stream",
     "text": [
      "0    30\n",
      "1    27\n",
      "2    20\n",
      "3    -2\n",
      "4     0\n",
      "dtype: int64\n"
     ]
    }
   ],
   "source": [
    "print(city1)"
   ]
  },
  {
   "cell_type": "code",
   "execution_count": 11,
   "id": "d3606fda",
   "metadata": {},
   "outputs": [
    {
     "data": {
      "text/plain": [
       "array([30, 27, 20, -2,  0], dtype=int64)"
      ]
     },
     "execution_count": 11,
     "metadata": {},
     "output_type": "execute_result"
    }
   ],
   "source": [
    "city1.values"
   ]
  },
  {
   "cell_type": "code",
   "execution_count": 13,
   "id": "c67c47e0",
   "metadata": {},
   "outputs": [
    {
     "data": {
      "text/plain": [
       "RangeIndex(start=0, stop=5, step=1)"
      ]
     },
     "execution_count": 13,
     "metadata": {},
     "output_type": "execute_result"
    }
   ],
   "source": [
    "city1.index"
   ]
  },
  {
   "cell_type": "code",
   "execution_count": 14,
   "id": "b4a90614",
   "metadata": {},
   "outputs": [
    {
     "data": {
      "text/plain": [
       "dtype('int64')"
      ]
     },
     "execution_count": 14,
     "metadata": {},
     "output_type": "execute_result"
    }
   ],
   "source": [
    "city1.dtype"
   ]
  },
  {
   "cell_type": "code",
   "execution_count": 17,
   "id": "77fbcee0",
   "metadata": {},
   "outputs": [
    {
     "data": {
      "text/plain": [
       "june        30\n",
       "july        27\n",
       "august      20\n",
       "december    -2\n",
       "november    -1\n",
       "dtype: int64"
      ]
     },
     "execution_count": 17,
     "metadata": {},
     "output_type": "execute_result"
    }
   ],
   "source": [
    "city1=pd.Series([30,27,20,-2,-1],index=['june','july','august','december','november'])\n",
    "city1"
   ]
  },
  {
   "cell_type": "code",
   "execution_count": 18,
   "id": "958a91d3",
   "metadata": {},
   "outputs": [
    {
     "data": {
      "text/plain": [
       "30"
      ]
     },
     "execution_count": 18,
     "metadata": {},
     "output_type": "execute_result"
    }
   ],
   "source": [
    "city1['june']"
   ]
  },
  {
   "cell_type": "code",
   "execution_count": 21,
   "id": "6f8d5a35",
   "metadata": {},
   "outputs": [
    {
     "data": {
      "text/plain": [
       "june        30\n",
       "december    -2\n",
       "dtype: int64"
      ]
     },
     "execution_count": 21,
     "metadata": {},
     "output_type": "execute_result"
    }
   ],
   "source": [
    "city1[['june','december']]"
   ]
  },
  {
   "cell_type": "code",
   "execution_count": 22,
   "id": "fa09fcc3",
   "metadata": {},
   "outputs": [
    {
     "data": {
      "text/plain": [
       "june         True\n",
       "july         True\n",
       "august       True\n",
       "december    False\n",
       "november    False\n",
       "dtype: bool"
      ]
     },
     "execution_count": 22,
     "metadata": {},
     "output_type": "execute_result"
    }
   ],
   "source": [
    "city1>0"
   ]
  },
  {
   "cell_type": "code",
   "execution_count": 23,
   "id": "451ed9fe",
   "metadata": {},
   "outputs": [
    {
     "data": {
      "text/plain": [
       "june        False\n",
       "july        False\n",
       "august      False\n",
       "december     True\n",
       "november     True\n",
       "dtype: bool"
      ]
     },
     "execution_count": 23,
     "metadata": {},
     "output_type": "execute_result"
    }
   ],
   "source": [
    "city1<0"
   ]
  },
  {
   "cell_type": "code",
   "execution_count": 24,
   "id": "377dfc38",
   "metadata": {},
   "outputs": [
    {
     "data": {
      "text/plain": [
       "june      30\n",
       "july      27\n",
       "august    20\n",
       "dtype: int64"
      ]
     },
     "execution_count": 24,
     "metadata": {},
     "output_type": "execute_result"
    }
   ],
   "source": [
    "city1[city1>0]"
   ]
  },
  {
   "cell_type": "code",
   "execution_count": 25,
   "id": "72367187",
   "metadata": {},
   "outputs": [
    {
     "data": {
      "text/plain": [
       "-2"
      ]
     },
     "execution_count": 25,
     "metadata": {},
     "output_type": "execute_result"
    }
   ],
   "source": [
    "city1.min()"
   ]
  },
  {
   "cell_type": "code",
   "execution_count": 26,
   "id": "b5f56bb4",
   "metadata": {},
   "outputs": [
    {
     "data": {
      "text/plain": [
       "30"
      ]
     },
     "execution_count": 26,
     "metadata": {},
     "output_type": "execute_result"
    }
   ],
   "source": [
    "city1.max()"
   ]
  },
  {
   "cell_type": "code",
   "execution_count": 28,
   "id": "df1cf52e",
   "metadata": {},
   "outputs": [
    {
     "data": {
      "text/plain": [
       "july      27\n",
       "august    20\n",
       "dtype: int64"
      ]
     },
     "execution_count": 28,
     "metadata": {},
     "output_type": "execute_result"
    }
   ],
   "source": [
    "city1[(city1>0) & (city1<30)]"
   ]
  },
  {
   "cell_type": "code",
   "execution_count": 30,
   "id": "58b791b1",
   "metadata": {},
   "outputs": [
    {
     "data": {
      "text/plain": [
       "june        35\n",
       "july        32\n",
       "august      25\n",
       "december     3\n",
       "november     4\n",
       "dtype: int64"
      ]
     },
     "execution_count": 30,
     "metadata": {},
     "output_type": "execute_result"
    }
   ],
   "source": [
    "city1+5 #scalar operation"
   ]
  },
  {
   "cell_type": "code",
   "execution_count": 54,
   "id": "843d242d",
   "metadata": {},
   "outputs": [],
   "source": [
    "ages= pd.Series({'syam':'25','devika':'23','chandrika':'54','surendran':'64','vipin':'30'})"
   ]
  },
  {
   "cell_type": "code",
   "execution_count": 55,
   "id": "1d98aac0",
   "metadata": {},
   "outputs": [
    {
     "data": {
      "text/plain": [
       "syam         25\n",
       "devika       23\n",
       "chandrika    54\n",
       "surendran    64\n",
       "vipin        30\n",
       "dtype: object"
      ]
     },
     "execution_count": 55,
     "metadata": {},
     "output_type": "execute_result"
    }
   ],
   "source": [
    "ages"
   ]
  },
  {
   "cell_type": "code",
   "execution_count": 56,
   "id": "696a87e2",
   "metadata": {},
   "outputs": [],
   "source": [
    "states=pd.Series(['thrissur','ernakulam','kozhikode','palakkad','malappuram'])"
   ]
  },
  {
   "cell_type": "code",
   "execution_count": 57,
   "id": "2fbccc2a",
   "metadata": {},
   "outputs": [],
   "source": [
    "data = pd.Series(ages, index= states)"
   ]
  },
  {
   "cell_type": "code",
   "execution_count": 58,
   "id": "4365f978",
   "metadata": {},
   "outputs": [
    {
     "data": {
      "text/plain": [
       "thrissur      NaN\n",
       "ernakulam     NaN\n",
       "kozhikode     NaN\n",
       "palakkad      NaN\n",
       "malappuram    NaN\n",
       "dtype: object"
      ]
     },
     "execution_count": 58,
     "metadata": {},
     "output_type": "execute_result"
    }
   ],
   "source": [
    "data"
   ]
  },
  {
   "cell_type": "code",
   "execution_count": 59,
   "id": "a21ededb",
   "metadata": {},
   "outputs": [
    {
     "data": {
      "text/plain": [
       "thrissur      True\n",
       "ernakulam     True\n",
       "kozhikode     True\n",
       "palakkad      True\n",
       "malappuram    True\n",
       "dtype: bool"
      ]
     },
     "execution_count": 59,
     "metadata": {},
     "output_type": "execute_result"
    }
   ],
   "source": [
    "data.isna()"
   ]
  },
  {
   "cell_type": "code",
   "execution_count": 62,
   "id": "0ddf2de9",
   "metadata": {},
   "outputs": [
    {
     "data": {
      "text/plain": [
       "thrissur      True\n",
       "ernakulam     True\n",
       "kozhikode     True\n",
       "palakkad      True\n",
       "malappuram    True\n",
       "dtype: bool"
      ]
     },
     "execution_count": 62,
     "metadata": {},
     "output_type": "execute_result"
    }
   ],
   "source": [
    "data.isna()"
   ]
  },
  {
   "cell_type": "code",
   "execution_count": null,
   "id": "56486d5e",
   "metadata": {},
   "outputs": [],
   "source": []
  }
 ],
 "metadata": {
  "kernelspec": {
   "display_name": "Python 3",
   "language": "python",
   "name": "python3"
  },
  "language_info": {
   "codemirror_mode": {
    "name": "ipython",
    "version": 3
   },
   "file_extension": ".py",
   "mimetype": "text/x-python",
   "name": "python",
   "nbconvert_exporter": "python",
   "pygments_lexer": "ipython3",
   "version": "3.8.8"
  }
 },
 "nbformat": 4,
 "nbformat_minor": 5
}
