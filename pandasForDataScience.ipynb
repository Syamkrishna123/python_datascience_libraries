{
 "cells": [
  {
   "cell_type": "markdown",
   "id": "272e03e6",
   "metadata": {},
   "source": [
    "# PANDAS"
   ]
  },
  {
   "cell_type": "code",
   "execution_count": 1,
   "id": "e51c2f2f",
   "metadata": {},
   "outputs": [],
   "source": [
    "import pandas as pd"
   ]
  },
  {
   "cell_type": "markdown",
   "id": "8b6b6e2a",
   "metadata": {},
   "source": [
    "# series"
   ]
  },
  {
   "cell_type": "code",
   "execution_count": 7,
   "id": "1b6bb966",
   "metadata": {},
   "outputs": [],
   "source": [
    "city1=pd.Series([30,27,20,-2,-1]) "
   ]
  },
  {
   "cell_type": "code",
   "execution_count": 9,
   "id": "550b98af",
   "metadata": {},
   "outputs": [
    {
     "name": "stdout",
     "output_type": "stream",
     "text": [
      "0    30\n",
      "1    27\n",
      "2    20\n",
      "3    -2\n",
      "4     0\n",
      "dtype: int64\n"
     ]
    }
   ],
   "source": [
    "print(city1)"
   ]
  },
  {
   "cell_type": "code",
   "execution_count": 11,
   "id": "25cec5d1",
   "metadata": {},
   "outputs": [
    {
     "data": {
      "text/plain": [
       "array([30, 27, 20, -2,  0], dtype=int64)"
      ]
     },
     "execution_count": 11,
     "metadata": {},
     "output_type": "execute_result"
    }
   ],
   "source": [
    "city1.values"
   ]
  },
  {
   "cell_type": "code",
   "execution_count": 13,
   "id": "bb230693",
   "metadata": {},
   "outputs": [
    {
     "data": {
      "text/plain": [
       "RangeIndex(start=0, stop=5, step=1)"
      ]
     },
     "execution_count": 13,
     "metadata": {},
     "output_type": "execute_result"
    }
   ],
   "source": [
    "city1.index"
   ]
  },
  {
   "cell_type": "code",
   "execution_count": 14,
   "id": "b090051d",
   "metadata": {},
   "outputs": [
    {
     "data": {
      "text/plain": [
       "dtype('int64')"
      ]
     },
     "execution_count": 14,
     "metadata": {},
     "output_type": "execute_result"
    }
   ],
   "source": [
    "city1.dtype"
   ]
  },
  {
   "cell_type": "code",
   "execution_count": 17,
   "id": "fa806f7b",
   "metadata": {},
   "outputs": [
    {
     "data": {
      "text/plain": [
       "june        30\n",
       "july        27\n",
       "august      20\n",
       "december    -2\n",
       "november    -1\n",
       "dtype: int64"
      ]
     },
     "execution_count": 17,
     "metadata": {},
     "output_type": "execute_result"
    }
   ],
   "source": [
    "city1=pd.Series([30,27,20,-2,-1],index=['june','july','august','december','november'])\n",
    "city1"
   ]
  },
  {
   "cell_type": "code",
   "execution_count": 18,
   "id": "8a739ac4",
   "metadata": {},
   "outputs": [
    {
     "data": {
      "text/plain": [
       "30"
      ]
     },
     "execution_count": 18,
     "metadata": {},
     "output_type": "execute_result"
    }
   ],
   "source": [
    "city1['june']"
   ]
  },
  {
   "cell_type": "code",
   "execution_count": 21,
   "id": "0e4dccf7",
   "metadata": {},
   "outputs": [
    {
     "data": {
      "text/plain": [
       "june        30\n",
       "december    -2\n",
       "dtype: int64"
      ]
     },
     "execution_count": 21,
     "metadata": {},
     "output_type": "execute_result"
    }
   ],
   "source": [
    "city1[['june','december']]"
   ]
  },
  {
   "cell_type": "code",
   "execution_count": 22,
   "id": "449294a2",
   "metadata": {},
   "outputs": [
    {
     "data": {
      "text/plain": [
       "june         True\n",
       "july         True\n",
       "august       True\n",
       "december    False\n",
       "november    False\n",
       "dtype: bool"
      ]
     },
     "execution_count": 22,
     "metadata": {},
     "output_type": "execute_result"
    }
   ],
   "source": [
    "city1>0"
   ]
  },
  {
   "cell_type": "code",
   "execution_count": 23,
   "id": "30d31902",
   "metadata": {},
   "outputs": [
    {
     "data": {
      "text/plain": [
       "june        False\n",
       "july        False\n",
       "august      False\n",
       "december     True\n",
       "november     True\n",
       "dtype: bool"
      ]
     },
     "execution_count": 23,
     "metadata": {},
     "output_type": "execute_result"
    }
   ],
   "source": [
    "city1<0"
   ]
  },
  {
   "cell_type": "code",
   "execution_count": 24,
   "id": "f94591c7",
   "metadata": {},
   "outputs": [
    {
     "data": {
      "text/plain": [
       "june      30\n",
       "july      27\n",
       "august    20\n",
       "dtype: int64"
      ]
     },
     "execution_count": 24,
     "metadata": {},
     "output_type": "execute_result"
    }
   ],
   "source": [
    "city1[city1>0]"
   ]
  },
  {
   "cell_type": "code",
   "execution_count": 25,
   "id": "9ea8bbe8",
   "metadata": {},
   "outputs": [
    {
     "data": {
      "text/plain": [
       "-2"
      ]
     },
     "execution_count": 25,
     "metadata": {},
     "output_type": "execute_result"
    }
   ],
   "source": [
    "city1.min()"
   ]
  },
  {
   "cell_type": "code",
   "execution_count": 26,
   "id": "9050163a",
   "metadata": {},
   "outputs": [
    {
     "data": {
      "text/plain": [
       "30"
      ]
     },
     "execution_count": 26,
     "metadata": {},
     "output_type": "execute_result"
    }
   ],
   "source": [
    "city1.max()"
   ]
  },
  {
   "cell_type": "code",
   "execution_count": 28,
   "id": "9555b804",
   "metadata": {},
   "outputs": [
    {
     "data": {
      "text/plain": [
       "july      27\n",
       "august    20\n",
       "dtype: int64"
      ]
     },
     "execution_count": 28,
     "metadata": {},
     "output_type": "execute_result"
    }
   ],
   "source": [
    "city1[(city1>0) & (city1<30)]"
   ]
  },
  {
   "cell_type": "code",
   "execution_count": 30,
   "id": "af6551e5",
   "metadata": {},
   "outputs": [
    {
     "data": {
      "text/plain": [
       "june        35\n",
       "july        32\n",
       "august      25\n",
       "december     3\n",
       "november     4\n",
       "dtype: int64"
      ]
     },
     "execution_count": 30,
     "metadata": {},
     "output_type": "execute_result"
    }
   ],
   "source": [
    "city1+5 #scalar operation"
   ]
  },
  {
   "cell_type": "code",
   "execution_count": 54,
   "id": "3f171a2f",
   "metadata": {},
   "outputs": [],
   "source": [
    "ages= pd.Series({'syam':'25','devika':'23','chandrika':'54','surendran':'64','vipin':'30'})"
   ]
  },
  {
   "cell_type": "code",
   "execution_count": 55,
   "id": "c8ae0cab",
   "metadata": {},
   "outputs": [
    {
     "data": {
      "text/plain": [
       "syam         25\n",
       "devika       23\n",
       "chandrika    54\n",
       "surendran    64\n",
       "vipin        30\n",
       "dtype: object"
      ]
     },
     "execution_count": 55,
     "metadata": {},
     "output_type": "execute_result"
    }
   ],
   "source": [
    "ages"
   ]
  },
  {
   "cell_type": "code",
   "execution_count": 56,
   "id": "ad5552af",
   "metadata": {},
   "outputs": [],
   "source": [
    "states=pd.Series(['thrissur','ernakulam','kozhikode','palakkad','malappuram'])"
   ]
  },
  {
   "cell_type": "code",
   "execution_count": 57,
   "id": "c62ff19d",
   "metadata": {},
   "outputs": [],
   "source": [
    "data = pd.Series(ages, index= states)"
   ]
  },
  {
   "cell_type": "code",
   "execution_count": 58,
   "id": "433b643a",
   "metadata": {},
   "outputs": [
    {
     "data": {
      "text/plain": [
       "thrissur      NaN\n",
       "ernakulam     NaN\n",
       "kozhikode     NaN\n",
       "palakkad      NaN\n",
       "malappuram    NaN\n",
       "dtype: object"
      ]
     },
     "execution_count": 58,
     "metadata": {},
     "output_type": "execute_result"
    }
   ],
   "source": [
    "data"
   ]
  },
  {
   "cell_type": "code",
   "execution_count": 59,
   "id": "5b5234bb",
   "metadata": {},
   "outputs": [
    {
     "data": {
      "text/plain": [
       "thrissur      True\n",
       "ernakulam     True\n",
       "kozhikode     True\n",
       "palakkad      True\n",
       "malappuram    True\n",
       "dtype: bool"
      ]
     },
     "execution_count": 59,
     "metadata": {},
     "output_type": "execute_result"
    }
   ],
   "source": [
    "data.isna()"
   ]
  },
  {
   "cell_type": "code",
   "execution_count": 62,
   "id": "8a2b16d1",
   "metadata": {},
   "outputs": [
    {
     "data": {
      "text/plain": [
       "thrissur      True\n",
       "ernakulam     True\n",
       "kozhikode     True\n",
       "palakkad      True\n",
       "malappuram    True\n",
       "dtype: bool"
      ]
     },
     "execution_count": 62,
     "metadata": {},
     "output_type": "execute_result"
    }
   ],
   "source": [
    "data.isna()"
   ]
  },
  {
   "cell_type": "code",
   "execution_count": null,
   "id": "7003aa46",
   "metadata": {},
   "outputs": [],
   "source": []
  }
 ],
 "metadata": {
  "kernelspec": {
   "display_name": "Python 3",
   "language": "python",
   "name": "python3"
  },
  "language_info": {
   "codemirror_mode": {
    "name": "ipython",
    "version": 3
   },
   "file_extension": ".py",
   "mimetype": "text/x-python",
   "name": "python",
   "nbconvert_exporter": "python",
   "pygments_lexer": "ipython3",
   "version": "3.8.8"
  }
 },
 "nbformat": 4,
 "nbformat_minor": 5
}
