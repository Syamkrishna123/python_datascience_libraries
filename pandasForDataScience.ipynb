{
 "cells": [
  {
   "cell_type": "markdown",
   "id": "7ab4f436",
   "metadata": {},
   "source": [
    "# PANDAS"
   ]
  },
  {
   "cell_type": "code",
   "execution_count": 1,
   "id": "74c689a5",
   "metadata": {},
   "outputs": [],
   "source": [
    "import pandas as pd"
   ]
  },
  {
   "cell_type": "markdown",
   "id": "77bbd146",
   "metadata": {},
   "source": [
    "# series"
   ]
  },
  {
   "cell_type": "code",
   "execution_count": 7,
   "id": "8083fddd",
   "metadata": {},
   "outputs": [],
   "source": [
    "city1=pd.Series([30,27,20,-2,-1]) "
   ]
  },
  {
   "cell_type": "code",
   "execution_count": 9,
   "id": "2dbfe215",
   "metadata": {},
   "outputs": [
    {
     "name": "stdout",
     "output_type": "stream",
     "text": [
      "0    30\n",
      "1    27\n",
      "2    20\n",
      "3    -2\n",
      "4     0\n",
      "dtype: int64\n"
     ]
    }
   ],
   "source": [
    "print(city1)"
   ]
  },
  {
   "cell_type": "code",
   "execution_count": 11,
   "id": "26132ea1",
   "metadata": {},
   "outputs": [
    {
     "data": {
      "text/plain": [
       "array([30, 27, 20, -2,  0], dtype=int64)"
      ]
     },
     "execution_count": 11,
     "metadata": {},
     "output_type": "execute_result"
    }
   ],
   "source": [
    "city1.values"
   ]
  },
  {
   "cell_type": "code",
   "execution_count": 13,
   "id": "8aecd751",
   "metadata": {},
   "outputs": [
    {
     "data": {
      "text/plain": [
       "RangeIndex(start=0, stop=5, step=1)"
      ]
     },
     "execution_count": 13,
     "metadata": {},
     "output_type": "execute_result"
    }
   ],
   "source": [
    "city1.index"
   ]
  },
  {
   "cell_type": "code",
   "execution_count": 14,
   "id": "532eb269",
   "metadata": {},
   "outputs": [
    {
     "data": {
      "text/plain": [
       "dtype('int64')"
      ]
     },
     "execution_count": 14,
     "metadata": {},
     "output_type": "execute_result"
    }
   ],
   "source": [
    "city1.dtype"
   ]
  },
  {
   "cell_type": "code",
   "execution_count": 17,
   "id": "3e03b3d4",
   "metadata": {},
   "outputs": [
    {
     "data": {
      "text/plain": [
       "june        30\n",
       "july        27\n",
       "august      20\n",
       "december    -2\n",
       "november    -1\n",
       "dtype: int64"
      ]
     },
     "execution_count": 17,
     "metadata": {},
     "output_type": "execute_result"
    }
   ],
   "source": [
    "city1=pd.Series([30,27,20,-2,-1],index=['june','july','august','december','november'])\n",
    "city1"
   ]
  },
  {
   "cell_type": "code",
   "execution_count": 18,
   "id": "2d1920e9",
   "metadata": {},
   "outputs": [
    {
     "data": {
      "text/plain": [
       "30"
      ]
     },
     "execution_count": 18,
     "metadata": {},
     "output_type": "execute_result"
    }
   ],
   "source": [
    "city1['june']"
   ]
  },
  {
   "cell_type": "code",
   "execution_count": 21,
   "id": "b6f1f30c",
   "metadata": {},
   "outputs": [
    {
     "data": {
      "text/plain": [
       "june        30\n",
       "december    -2\n",
       "dtype: int64"
      ]
     },
     "execution_count": 21,
     "metadata": {},
     "output_type": "execute_result"
    }
   ],
   "source": [
    "city1[['june','december']]"
   ]
  },
  {
   "cell_type": "code",
   "execution_count": 22,
   "id": "ed028f50",
   "metadata": {},
   "outputs": [
    {
     "data": {
      "text/plain": [
       "june         True\n",
       "july         True\n",
       "august       True\n",
       "december    False\n",
       "november    False\n",
       "dtype: bool"
      ]
     },
     "execution_count": 22,
     "metadata": {},
     "output_type": "execute_result"
    }
   ],
   "source": [
    "city1>0"
   ]
  },
  {
   "cell_type": "code",
   "execution_count": 23,
   "id": "06917505",
   "metadata": {},
   "outputs": [
    {
     "data": {
      "text/plain": [
       "june        False\n",
       "july        False\n",
       "august      False\n",
       "december     True\n",
       "november     True\n",
       "dtype: bool"
      ]
     },
     "execution_count": 23,
     "metadata": {},
     "output_type": "execute_result"
    }
   ],
   "source": [
    "city1<0"
   ]
  },
  {
   "cell_type": "code",
   "execution_count": 24,
   "id": "33d415c3",
   "metadata": {},
   "outputs": [
    {
     "data": {
      "text/plain": [
       "june      30\n",
       "july      27\n",
       "august    20\n",
       "dtype: int64"
      ]
     },
     "execution_count": 24,
     "metadata": {},
     "output_type": "execute_result"
    }
   ],
   "source": [
    "city1[city1>0]"
   ]
  },
  {
   "cell_type": "code",
   "execution_count": 25,
   "id": "c4a1be5a",
   "metadata": {},
   "outputs": [
    {
     "data": {
      "text/plain": [
       "-2"
      ]
     },
     "execution_count": 25,
     "metadata": {},
     "output_type": "execute_result"
    }
   ],
   "source": [
    "city1.min()"
   ]
  },
  {
   "cell_type": "code",
   "execution_count": 26,
   "id": "c35562e9",
   "metadata": {},
   "outputs": [
    {
     "data": {
      "text/plain": [
       "30"
      ]
     },
     "execution_count": 26,
     "metadata": {},
     "output_type": "execute_result"
    }
   ],
   "source": [
    "city1.max()"
   ]
  },
  {
   "cell_type": "code",
   "execution_count": 28,
   "id": "c0f70558",
   "metadata": {},
   "outputs": [
    {
     "data": {
      "text/plain": [
       "july      27\n",
       "august    20\n",
       "dtype: int64"
      ]
     },
     "execution_count": 28,
     "metadata": {},
     "output_type": "execute_result"
    }
   ],
   "source": [
    "city1[(city1>0) & (city1<30)]"
   ]
  },
  {
   "cell_type": "code",
   "execution_count": 30,
   "id": "f6b50045",
   "metadata": {},
   "outputs": [
    {
     "data": {
      "text/plain": [
       "june        35\n",
       "july        32\n",
       "august      25\n",
       "december     3\n",
       "november     4\n",
       "dtype: int64"
      ]
     },
     "execution_count": 30,
     "metadata": {},
     "output_type": "execute_result"
    }
   ],
   "source": [
    "city1+5 #scalar operation"
   ]
  },
  {
   "cell_type": "code",
   "execution_count": 63,
   "id": "cff0c723",
   "metadata": {},
   "outputs": [],
   "source": [
    "ages= pd.Series({'syam':25,'devika':23,'chandrika':54,'surendran':64,'vipin':30})"
   ]
  },
  {
   "cell_type": "code",
   "execution_count": 64,
   "id": "434a0460",
   "metadata": {},
   "outputs": [
    {
     "data": {
      "text/plain": [
       "syam         25\n",
       "devika       23\n",
       "chandrika    54\n",
       "surendran    64\n",
       "vipin        30\n",
       "dtype: int64"
      ]
     },
     "execution_count": 64,
     "metadata": {},
     "output_type": "execute_result"
    }
   ],
   "source": [
    "ages"
   ]
  },
  {
   "cell_type": "code",
   "execution_count": 65,
   "id": "0005eb72",
   "metadata": {},
   "outputs": [
    {
     "data": {
      "text/plain": [
       "0      thrissur\n",
       "1     ernakulam\n",
       "2     kozhikode\n",
       "3      palakkad\n",
       "4    malappuram\n",
       "dtype: object"
      ]
     },
     "execution_count": 65,
     "metadata": {},
     "output_type": "execute_result"
    }
   ],
   "source": [
    "states=pd.Series(['thrissur','ernakulam','kozhikode','palakkad','malappuram'])\n",
    "states"
   ]
  },
  {
   "cell_type": "code",
   "execution_count": 68,
   "id": "f365324d",
   "metadata": {},
   "outputs": [],
   "source": [
    "dt = pd.Series(ages, index= states)"
   ]
  },
  {
   "cell_type": "code",
   "execution_count": 69,
   "id": "9879cfa2",
   "metadata": {},
   "outputs": [
    {
     "data": {
      "text/plain": [
       "thrissur     NaN\n",
       "ernakulam    NaN\n",
       "kozhikode    NaN\n",
       "palakkad     NaN\n",
       "malappuram   NaN\n",
       "dtype: float64"
      ]
     },
     "execution_count": 69,
     "metadata": {},
     "output_type": "execute_result"
    }
   ],
   "source": [
    "dt"
   ]
  },
  {
   "cell_type": "code",
   "execution_count": 59,
   "id": "21de73d3",
   "metadata": {},
   "outputs": [
    {
     "data": {
      "text/plain": [
       "thrissur      True\n",
       "ernakulam     True\n",
       "kozhikode     True\n",
       "palakkad      True\n",
       "malappuram    True\n",
       "dtype: bool"
      ]
     },
     "execution_count": 59,
     "metadata": {},
     "output_type": "execute_result"
    }
   ],
   "source": [
    "dt.isna()"
   ]
  },
  {
   "cell_type": "code",
   "execution_count": 70,
   "id": "e9aa3a14",
   "metadata": {},
   "outputs": [
    {
     "data": {
      "text/plain": [
       "thrissur      True\n",
       "ernakulam     True\n",
       "kozhikode     True\n",
       "palakkad      True\n",
       "malappuram    True\n",
       "dtype: bool"
      ]
     },
     "execution_count": 70,
     "metadata": {},
     "output_type": "execute_result"
    }
   ],
   "source": [
    "dt.isna()"
   ]
  },
  {
   "cell_type": "code",
   "execution_count": 72,
   "id": "1aadbd83",
   "metadata": {},
   "outputs": [],
   "source": [
    "data1=pd.Series({'y':1,'x':2})"
   ]
  },
  {
   "cell_type": "code",
   "execution_count": 73,
   "id": "d2e6d313",
   "metadata": {},
   "outputs": [
    {
     "data": {
      "text/plain": [
       "y    1\n",
       "x    2\n",
       "dtype: int64"
      ]
     },
     "execution_count": 73,
     "metadata": {},
     "output_type": "execute_result"
    }
   ],
   "source": [
    "data1"
   ]
  },
  {
   "cell_type": "code",
   "execution_count": 76,
   "id": "d4130cf6",
   "metadata": {},
   "outputs": [],
   "source": [
    "data2=pd.Series(['a','b','d'])"
   ]
  },
  {
   "cell_type": "code",
   "execution_count": 77,
   "id": "e5856571",
   "metadata": {},
   "outputs": [
    {
     "data": {
      "text/plain": [
       "0    a\n",
       "1    b\n",
       "2    d\n",
       "dtype: object"
      ]
     },
     "execution_count": 77,
     "metadata": {},
     "output_type": "execute_result"
    }
   ],
   "source": [
    "data2"
   ]
  },
  {
   "cell_type": "code",
   "execution_count": 78,
   "id": "b1f6b6b3",
   "metadata": {},
   "outputs": [
    {
     "name": "stdout",
     "output_type": "stream",
     "text": [
      "a   NaN\n",
      "b   NaN\n",
      "d   NaN\n",
      "dtype: float64\n"
     ]
    }
   ],
   "source": [
    "data3=pd.Series(data1,index=data2)\n",
    "print(data3)"
   ]
  },
  {
   "cell_type": "code",
   "execution_count": null,
   "id": "01559e45",
   "metadata": {},
   "outputs": [],
   "source": []
  }
 ],
 "metadata": {
  "kernelspec": {
   "display_name": "Python 3",
   "language": "python",
   "name": "python3"
  },
  "language_info": {
   "codemirror_mode": {
    "name": "ipython",
    "version": 3
   },
   "file_extension": ".py",
   "mimetype": "text/x-python",
   "name": "python",
   "nbconvert_exporter": "python",
   "pygments_lexer": "ipython3",
   "version": "3.8.8"
  }
 },
 "nbformat": 4,
 "nbformat_minor": 5
}
